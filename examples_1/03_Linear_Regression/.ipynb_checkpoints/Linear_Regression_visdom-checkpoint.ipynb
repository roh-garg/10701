{
 "cells": [
  {
   "cell_type": "markdown",
   "metadata": {},
   "source": [
    "# Linear Regression\n",
    "\n",
    "- Linear Data\n",
    "- Linear Model"
   ]
  },
  {
   "cell_type": "markdown",
   "metadata": {},
   "source": [
    "## 1. Import Required Libraries"
   ]
  },
  {
   "cell_type": "code",
   "execution_count": 1,
   "metadata": {
    "collapsed": true
   },
   "outputs": [],
   "source": [
    "import numpy as np\n",
    "import torch\n",
    "import torch.nn as nn\n",
    "import torch.optim as optim\n",
    "import torch.nn.init as init\n",
    "from torch.autograd import Variable"
   ]
  },
  {
   "cell_type": "code",
   "execution_count": 7,
   "metadata": {
    "collapsed": false
   },
   "outputs": [],
   "source": [
    "# visdom is a visualization tool from facebook\n",
    "\n",
    "from visdom import Visdom\n",
    "viz = Visdom()"
   ]
  },
  {
   "cell_type": "markdown",
   "metadata": {},
   "source": [
    "## 2. Generate Data"
   ]
  },
  {
   "cell_type": "code",
   "execution_count": 8,
   "metadata": {
    "collapsed": false
   },
   "outputs": [
    {
     "name": "stderr",
     "output_type": "stream",
     "text": [
      "/usr/local/lib/python2.7/dist-packages/ipykernel/__main__.py:4: UserWarning: nn.init.normal is now deprecated in favor of nn.init.normal_.\n",
      "/usr/local/lib/python2.7/dist-packages/ipykernel/__main__.py:5: UserWarning: nn.init.uniform is now deprecated in favor of nn.init.uniform_.\n"
     ]
    }
   ],
   "source": [
    "num_data = 1000 \n",
    "num_epoch = 1000\n",
    "\n",
    "noise = init.normal(torch.FloatTensor(num_data,1),std=0.2)\n",
    "x = init.uniform(torch.Tensor(num_data,1),-10,10)\n",
    "y = 2*x+3\n",
    "y_noise = 2*(x+noise)+3"
   ]
  },
  {
   "cell_type": "code",
   "execution_count": 15,
   "metadata": {
    "collapsed": false
   },
   "outputs": [],
   "source": [
    "# visualize data with visdom\n",
    "\n",
    "import visdom\n",
    "import numpy as np\n",
    "vis = visdom.Visdom()\n",
    "vis.text('Hello, world!')\n",
    "vis.image(np.ones((3, 10, 10)))\n",
    "\n",
    "input_data = torch.cat([x,y_noise],1)\n",
    "\n",
    "win=viz.scatter(\n",
    "    X = input_data,\n",
    "    opts=dict(\n",
    "        xtickmin=-10,\n",
    "        xtickmax=10,\n",
    "        xtickstep=1,\n",
    "        ytickmin=-20,\n",
    "        ytickmax=20,\n",
    "        ytickstep=1,\n",
    "        markersymbol='dot',\n",
    "        markersize=5,\n",
    "        markercolor=np.random.randint(0, 255, num_data),\n",
    "    ),\n",
    ")\n",
    "\n",
    "# viz.updateTrace(\n",
    "#     X = x,\n",
    "#     Y = y,\n",
    "#     win=win,\n",
    "# )"
   ]
  },
  {
   "cell_type": "markdown",
   "metadata": {},
   "source": [
    "## 3. Model & Optimizer"
   ]
  },
  {
   "cell_type": "code",
   "execution_count": 16,
   "metadata": {
    "collapsed": true
   },
   "outputs": [],
   "source": [
    "model = nn.Linear(1,1)\n",
    "output = model(Variable(x))\n",
    "\n",
    "loss_func = nn.L1Loss()\n",
    "optimizer = optim.SGD(model.parameters(),lr=0.01)"
   ]
  },
  {
   "cell_type": "markdown",
   "metadata": {},
   "source": [
    "## 4. Train"
   ]
  },
  {
   "cell_type": "code",
   "execution_count": 18,
   "metadata": {
    "collapsed": false
   },
   "outputs": [
    {
     "name": "stdout",
     "output_type": "stream",
     "text": [
      "tensor(8.5508, grad_fn=<L1LossBackward>)\n",
      "tensor(6.2753, grad_fn=<L1LossBackward>)\n",
      "tensor(4.3307, grad_fn=<L1LossBackward>)\n",
      "tensor(3.3373, grad_fn=<L1LossBackward>)\n",
      "tensor(3.1439, grad_fn=<L1LossBackward>)\n",
      "tensor(3.0372, grad_fn=<L1LossBackward>)\n",
      "tensor(2.9365, grad_fn=<L1LossBackward>)\n",
      "tensor(2.8365, grad_fn=<L1LossBackward>)\n",
      "tensor(2.7367, grad_fn=<L1LossBackward>)\n",
      "tensor(2.6369, grad_fn=<L1LossBackward>)\n",
      "tensor(2.5372, grad_fn=<L1LossBackward>)\n",
      "tensor(2.4374, grad_fn=<L1LossBackward>)\n",
      "tensor(2.3377, grad_fn=<L1LossBackward>)\n",
      "tensor(2.2379, grad_fn=<L1LossBackward>)\n",
      "tensor(2.1382, grad_fn=<L1LossBackward>)\n",
      "tensor(2.0385, grad_fn=<L1LossBackward>)\n",
      "tensor(1.9388, grad_fn=<L1LossBackward>)\n",
      "tensor(1.8391, grad_fn=<L1LossBackward>)\n",
      "tensor(1.7394, grad_fn=<L1LossBackward>)\n",
      "tensor(1.6397, grad_fn=<L1LossBackward>)\n",
      "tensor(1.5400, grad_fn=<L1LossBackward>)\n",
      "tensor(1.4403, grad_fn=<L1LossBackward>)\n",
      "tensor(1.3406, grad_fn=<L1LossBackward>)\n",
      "tensor(1.2409, grad_fn=<L1LossBackward>)\n",
      "tensor(1.1416, grad_fn=<L1LossBackward>)\n",
      "tensor(1.0425, grad_fn=<L1LossBackward>)\n",
      "tensor(0.9445, grad_fn=<L1LossBackward>)\n",
      "tensor(0.8501, grad_fn=<L1LossBackward>)\n",
      "tensor(0.7609, grad_fn=<L1LossBackward>)\n",
      "tensor(0.6789, grad_fn=<L1LossBackward>)\n",
      "tensor(0.6060, grad_fn=<L1LossBackward>)\n",
      "tensor(0.5439, grad_fn=<L1LossBackward>)\n",
      "tensor(0.4928, grad_fn=<L1LossBackward>)\n",
      "tensor(0.4508, grad_fn=<L1LossBackward>)\n",
      "tensor(0.4171, grad_fn=<L1LossBackward>)\n",
      "tensor(0.3914, grad_fn=<L1LossBackward>)\n",
      "tensor(0.3726, grad_fn=<L1LossBackward>)\n",
      "tensor(0.3588, grad_fn=<L1LossBackward>)\n",
      "tensor(0.3492, grad_fn=<L1LossBackward>)\n",
      "tensor(0.3427, grad_fn=<L1LossBackward>)\n",
      "tensor(0.3380, grad_fn=<L1LossBackward>)\n",
      "tensor(0.3345, grad_fn=<L1LossBackward>)\n",
      "tensor(0.3320, grad_fn=<L1LossBackward>)\n",
      "tensor(0.3306, grad_fn=<L1LossBackward>)\n",
      "tensor(0.3296, grad_fn=<L1LossBackward>)\n",
      "tensor(0.3290, grad_fn=<L1LossBackward>)\n",
      "tensor(0.3286, grad_fn=<L1LossBackward>)\n",
      "tensor(0.3283, grad_fn=<L1LossBackward>)\n",
      "tensor(0.3282, grad_fn=<L1LossBackward>)\n",
      "tensor(0.3280, grad_fn=<L1LossBackward>)\n",
      "tensor(0.3279, grad_fn=<L1LossBackward>)\n",
      "tensor(0.3278, grad_fn=<L1LossBackward>)\n",
      "tensor(0.3278, grad_fn=<L1LossBackward>)\n",
      "tensor(0.3278, grad_fn=<L1LossBackward>)\n",
      "tensor(0.3277, grad_fn=<L1LossBackward>)\n",
      "tensor(0.3277, grad_fn=<L1LossBackward>)\n",
      "tensor(0.3277, grad_fn=<L1LossBackward>)\n",
      "tensor(0.3277, grad_fn=<L1LossBackward>)\n",
      "tensor(0.3277, grad_fn=<L1LossBackward>)\n",
      "tensor(0.3277, grad_fn=<L1LossBackward>)\n",
      "tensor(0.3277, grad_fn=<L1LossBackward>)\n",
      "tensor(0.3277, grad_fn=<L1LossBackward>)\n",
      "tensor(0.3277, grad_fn=<L1LossBackward>)\n",
      "tensor(0.3277, grad_fn=<L1LossBackward>)\n",
      "tensor(0.3277, grad_fn=<L1LossBackward>)\n",
      "tensor(0.3277, grad_fn=<L1LossBackward>)\n",
      "tensor(0.3277, grad_fn=<L1LossBackward>)\n",
      "tensor(0.3277, grad_fn=<L1LossBackward>)\n",
      "tensor(0.3277, grad_fn=<L1LossBackward>)\n",
      "tensor(0.3277, grad_fn=<L1LossBackward>)\n",
      "tensor(0.3277, grad_fn=<L1LossBackward>)\n",
      "tensor(0.3277, grad_fn=<L1LossBackward>)\n",
      "tensor(0.3277, grad_fn=<L1LossBackward>)\n",
      "tensor(0.3277, grad_fn=<L1LossBackward>)\n",
      "tensor(0.3277, grad_fn=<L1LossBackward>)\n",
      "tensor(0.3277, grad_fn=<L1LossBackward>)\n",
      "tensor(0.3277, grad_fn=<L1LossBackward>)\n",
      "tensor(0.3277, grad_fn=<L1LossBackward>)\n",
      "tensor(0.3277, grad_fn=<L1LossBackward>)\n",
      "tensor(0.3277, grad_fn=<L1LossBackward>)\n",
      "tensor(0.3277, grad_fn=<L1LossBackward>)\n",
      "tensor(0.3277, grad_fn=<L1LossBackward>)\n",
      "tensor(0.3277, grad_fn=<L1LossBackward>)\n",
      "tensor(0.3277, grad_fn=<L1LossBackward>)\n",
      "tensor(0.3277, grad_fn=<L1LossBackward>)\n",
      "tensor(0.3277, grad_fn=<L1LossBackward>)\n",
      "tensor(0.3277, grad_fn=<L1LossBackward>)\n",
      "tensor(0.3277, grad_fn=<L1LossBackward>)\n",
      "tensor(0.3277, grad_fn=<L1LossBackward>)\n",
      "tensor(0.3277, grad_fn=<L1LossBackward>)\n",
      "tensor(0.3277, grad_fn=<L1LossBackward>)\n",
      "tensor(0.3277, grad_fn=<L1LossBackward>)\n",
      "tensor(0.3277, grad_fn=<L1LossBackward>)\n",
      "tensor(0.3277, grad_fn=<L1LossBackward>)\n",
      "tensor(0.3277, grad_fn=<L1LossBackward>)\n",
      "tensor(0.3277, grad_fn=<L1LossBackward>)\n",
      "tensor(0.3277, grad_fn=<L1LossBackward>)\n",
      "tensor(0.3277, grad_fn=<L1LossBackward>)\n",
      "tensor(0.3277, grad_fn=<L1LossBackward>)\n",
      "tensor(0.3277, grad_fn=<L1LossBackward>)\n"
     ]
    }
   ],
   "source": [
    "# train\n",
    "loss_arr =[]\n",
    "label = Variable(y_noise)\n",
    "for i in range(num_epoch):\n",
    "    output = model(Variable(x))\n",
    "    optimizer.zero_grad()\n",
    "\n",
    "    loss = loss_func(output,label)\n",
    "    loss.backward()\n",
    "    optimizer.step()\n",
    "    if i % 10 == 0:\n",
    "        print(loss)\n",
    "    loss_arr.append(loss.data.numpy())"
   ]
  },
  {
   "cell_type": "markdown",
   "metadata": {},
   "source": [
    "## 5. Check Trained Parameters"
   ]
  },
  {
   "cell_type": "code",
   "execution_count": 19,
   "metadata": {
    "collapsed": false
   },
   "outputs": [
    {
     "name": "stdout",
     "output_type": "stream",
     "text": [
      "(tensor([[1.9981]]), tensor([3.0148]))\n"
     ]
    }
   ],
   "source": [
    "param_list = list(model.parameters())\n",
    "print(param_list[0].data,param_list[1].data)"
   ]
  },
  {
   "cell_type": "markdown",
   "metadata": {},
   "source": [
    "## 6. Visualize output"
   ]
  },
  {
   "cell_type": "code",
   "execution_count": 20,
   "metadata": {
    "collapsed": false
   },
   "outputs": [
    {
     "ename": "AttributeError",
     "evalue": "'Visdom' object has no attribute 'updateTrace'",
     "output_type": "error",
     "traceback": [
      "\u001b[0;31m---------------------------------------------------------------------------\u001b[0m",
      "\u001b[0;31mAttributeError\u001b[0m                            Traceback (most recent call last)",
      "\u001b[0;32m<ipython-input-20-6f1735aef850>\u001b[0m in \u001b[0;36m<module>\u001b[0;34m()\u001b[0m\n\u001b[1;32m     14\u001b[0m )\n\u001b[1;32m     15\u001b[0m \u001b[0;34m\u001b[0m\u001b[0m\n\u001b[0;32m---> 16\u001b[0;31m viz.updateTrace(\n\u001b[0m\u001b[1;32m     17\u001b[0m     \u001b[0mX\u001b[0m \u001b[0;34m=\u001b[0m \u001b[0mx\u001b[0m\u001b[0;34m,\u001b[0m\u001b[0;34m\u001b[0m\u001b[0m\n\u001b[1;32m     18\u001b[0m     \u001b[0mY\u001b[0m \u001b[0;34m=\u001b[0m \u001b[0moutput\u001b[0m\u001b[0;34m.\u001b[0m\u001b[0mdata\u001b[0m\u001b[0;34m,\u001b[0m\u001b[0;34m\u001b[0m\u001b[0m\n",
      "\u001b[0;31mAttributeError\u001b[0m: 'Visdom' object has no attribute 'updateTrace'"
     ]
    }
   ],
   "source": [
    "win_2=viz.scatter(\n",
    "    X = input_data,\n",
    "    opts=dict(\n",
    "        xtickmin=-10,\n",
    "        xtickmax=10,\n",
    "        xtickstep=1,\n",
    "        ytickmin=-20,\n",
    "        ytickmax=20,\n",
    "        ytickstep=1,\n",
    "        markersymbol='dot',\n",
    "        markercolor=np.random.randint(0, 255, num_data),\n",
    "        markersize=5,\n",
    "    ),\n",
    ")\n",
    "\n",
    "viz.updateTrace(\n",
    "    X = x,\n",
    "    Y = output.data,\n",
    "    win = win_2,\n",
    "    opts=dict(\n",
    "        xtickmin=-15,\n",
    "        xtickmax=10,\n",
    "        xtickstep=1,\n",
    "        ytickmin=-300,\n",
    "        ytickmax=200,\n",
    "        ytickstep=1,\n",
    "        markersymbol='dot',\n",
    "    ),\n",
    ")"
   ]
  },
  {
   "cell_type": "markdown",
   "metadata": {},
   "source": [
    "## 7. Visualize Loss Graph"
   ]
  },
  {
   "cell_type": "code",
   "execution_count": 9,
   "metadata": {
    "collapsed": true
   },
   "outputs": [],
   "source": [
    "x = np.reshape([i for i in range(num_epoch)],newshape=[num_epoch,1])\n",
    "loss_data = np.reshape(loss_arr,newshape=[num_epoch,1])\n",
    "\n",
    "win2=viz.line(\n",
    "    X = x,\n",
    "    Y = loss_data,\n",
    "    opts=dict(\n",
    "        xtickmin=0,\n",
    "        xtickmax=num_epoch,\n",
    "        xtickstep=1,\n",
    "        ytickmin=0,\n",
    "        ytickmax=20,\n",
    "        ytickstep=1,\n",
    "        markercolor=np.random.randint(0, 255, num_epoch),\n",
    "    ),\n",
    ")"
   ]
  }
 ],
 "metadata": {
  "kernelspec": {
   "display_name": "Python 2",
   "language": "python",
   "name": "python2"
  },
  "language_info": {
   "codemirror_mode": {
    "name": "ipython",
    "version": 2
   },
   "file_extension": ".py",
   "mimetype": "text/x-python",
   "name": "python",
   "nbconvert_exporter": "python",
   "pygments_lexer": "ipython2",
   "version": "2.7.6"
  }
 },
 "nbformat": 4,
 "nbformat_minor": 1
}
